{
 "cells": [
  {
   "cell_type": "markdown",
   "id": "592bfdf8-bf40-42b4-81ac-011d6a45d10a",
   "metadata": {},
   "source": [
    "# Python 量化股票K线图\n",
    "- 可以通过Python pyecharts模块来绘制股票K线图\n",
    "- pyecharts是一个基于ECharts的Python数据可视化库，它允许用户使用Python语言生成各种类型的交互式图表和数据可视化\n",
    "- 在pyecharts中，可以使用K线图（Kline）来展示股票走势，K线图主要用于展示金融数据，如股票的开盘价、收盘价、最高价、最低价等信息。"
   ]
  },
  {
   "cell_type": "markdown",
   "id": "67a1b23f-88e5-45bc-9360-3385553d29dd",
   "metadata": {},
   "source": [
    "将Kline图渲染到HTML文件中："
   ]
  },
  {
   "cell_type": "code",
   "execution_count": 4,
   "id": "b047af46-2ed4-4c42-a6a8-e8f42aed1b93",
   "metadata": {},
   "outputs": [
    {
     "data": {
      "text/plain": [
       "'/Users/jensen/coding/quantTrade/quantTrade/kline_chart.html'"
      ]
     },
     "execution_count": 4,
     "metadata": {},
     "output_type": "execute_result"
    }
   ],
   "source": [
    "from pyecharts import options as opts\n",
    "from pyecharts.charts import Kline\n",
    "\n",
    "# 准备数据\n",
    "data = [\n",
    "    [2320.26, 2320.26, 2287.3, 2362.94],\n",
    "    [2300, 2291.3, 2288.26, 2308.38],\n",
    "    [2295.35, 2346.5, 2295.35, 2345.92],\n",
    "    [2347.22, 2358.98, 2337.35, 2363.8],\n",
    "]\n",
    "\n",
    "# 配置Kline图\n",
    "kline = (\n",
    "    Kline()\n",
    "    # 日期\n",
    "    .add_xaxis(xaxis_data=[\"2017-10-24\", \"2017-10-25\", \"2017-10-26\", \"2017-10-27\"])\n",
    "    # 日期对应数据\n",
    "    .add_yaxis(series_name=\"Kline\", y_axis=data)\n",
    "    .set_global_opts(\n",
    "        xaxis_opts=opts.AxisOpts(is_scale=True),\n",
    "        yaxis_opts=opts.AxisOpts(is_scale=True),\n",
    "        title_opts=opts.TitleOpts(title=\"Kline 示例\"),\n",
    "    )\n",
    ")\n",
    "\n",
    "# 渲染图表\n",
    "kline.render('kline_chart.html')"
   ]
  },
  {
   "cell_type": "code",
   "execution_count": 6,
   "id": "55f7e671-e379-471e-91f0-b161782e6e72",
   "metadata": {},
   "outputs": [
    {
     "data": {
      "text/plain": [
       "'/Users/jensen/coding/quantTrade/quantTrade/maotai_kline_chart.html'"
      ]
     },
     "execution_count": 6,
     "metadata": {},
     "output_type": "execute_result"
    }
   ],
   "source": [
    "# import yfinance as yf\n",
    "# from pyecharts import options as opts\n",
    "# from pyecharts.charts import Kline\n",
    "\n",
    "# # 获取贵州茅台近三年的股票数据\n",
    "# symbol = '600519.SS'  # 600519.SS 为贵州茅台的股票代码\n",
    "# start_date = '2020-01-01'\n",
    "# end_date = '2022-12-31'\n",
    "\n",
    "# stock_data = yf.download(symbol, start=start_date, end=end_date, auto_adjust=False, progress=False)\n",
    "\n",
    "# # 提取 K 线图所需的数据格式\n",
    "# kline_data = []\n",
    "# for index, row in stock_data.iterrows():\n",
    "#     kline_data.append([row['Open'], row['Close'], row['Low'], row['High']])\n",
    "\n",
    "# # 配置 Kline 图\n",
    "# kline = (\n",
    "#     Kline()\n",
    "#     .add_xaxis(xaxis_data=stock_data.index.strftime('%Y-%m-%d').tolist())\n",
    "#     .add_yaxis(series_name=\"Kline\", y_axis=kline_data)\n",
    "#     .set_global_opts(\n",
    "#         xaxis_opts=opts.AxisOpts(is_scale=True),\n",
    "#         yaxis_opts=opts.AxisOpts(is_scale=True),\n",
    "#         title_opts=opts.TitleOpts(title=\"贵州茅台 Kline 图示例\"),\n",
    "#         datazoom_opts=[opts.DataZoomOpts()],\n",
    "#         toolbox_opts=opts.ToolboxOpts(\n",
    "#             feature={\n",
    "#                 \"dataZoom\": {\"yAxisIndex\": \"none\"},\n",
    "#                 \"restore\": {},\n",
    "#                 \"saveAsImage\": {},\n",
    "#             }\n",
    "#         ),\n",
    "#     )\n",
    "# )\n",
    "\n",
    "# # 渲染图表\n",
    "# kline.render(\"maotai_kline_chart.html\")"
   ]
  },
  {
   "cell_type": "code",
   "execution_count": 7,
   "id": "13339ce9-b4c3-4416-9ec6-7fe6456c3346",
   "metadata": {},
   "outputs": [
    {
     "name": "stdout",
     "output_type": "stream",
     "text": [
      "已生成：maotai_kline_chart.html\n"
     ]
    }
   ],
   "source": [
    "import yfinance as yf\n",
    "from pyecharts import options as opts\n",
    "from pyecharts.charts import Kline\n",
    "\n",
    "symbol = '600519.SS'\n",
    "start_date = '2020-01-01'\n",
    "end_date   = '2022-12-31'\n",
    "\n",
    "# 1) 拉数据：固定口径 + 单层列 + 去 NaN\n",
    "df = yf.download(symbol, start=start_date, end=end_date,\n",
    "                 auto_adjust=False, progress=False, group_by='column')\n",
    "df = df[['Open','High','Low','Close']].dropna()\n",
    "assert not df.empty, \"下载结果为空，请检查时间段或网络。\"\n",
    "\n",
    "# 2) 组装 K 线数据（顺序：open, close, low, high）\n",
    "kline_data = df[['Open','Close','Low','High']].astype(float).values.tolist()\n",
    "dates = df.index.strftime('%Y-%m-%d').tolist()\n",
    "\n",
    "# 3) 画图\n",
    "kline = (\n",
    "    Kline(init_opts=opts.InitOpts(width=\"1200px\", height=\"600px\"))\n",
    "    .add_xaxis(dates)\n",
    "    .add_yaxis(\"Kline\", kline_data)\n",
    "    .set_global_opts(\n",
    "        xaxis_opts=opts.AxisOpts(is_scale=True),\n",
    "        yaxis_opts=opts.AxisOpts(is_scale=True),\n",
    "        title_opts=opts.TitleOpts(title=\"贵州茅台 K 线\"),\n",
    "        datazoom_opts=[opts.DataZoomOpts(), opts.DataZoomOpts(type_=\"inside\")],\n",
    "        toolbox_opts=opts.ToolboxOpts(feature={\"dataZoom\":{\"yAxisIndex\":\"none\"}, \"restore\":{}, \"saveAsImage\":{}}),\n",
    "    )\n",
    ")\n",
    "kline.render(\"maotai_kline_chart.html\")\n",
    "print(\"已生成：maotai_kline_chart.html\")"
   ]
  },
  {
   "cell_type": "markdown",
   "id": "8e878a19-16d3-439d-bb4b-5542ccbbe1fc",
   "metadata": {},
   "source": [
    "**绘制曲线图**"
   ]
  },
  {
   "cell_type": "code",
   "execution_count": 11,
   "id": "c1f1e755-59a5-4514-ab1d-34bda33dfd06",
   "metadata": {},
   "outputs": [
    {
     "name": "stderr",
     "output_type": "stream",
     "text": [
      "/var/folders/mv/xy0dcv652js8mbvxhxmnc5z00000gn/T/ipykernel_70117/2828851811.py:16: FutureWarning: YF.download() has changed argument auto_adjust default to True\n",
      "  df = yf.download(stock_code, start=start_date, end=end_date)\n",
      "[*********************100%***********************]  1 of 1 completed\n"
     ]
    },
    {
     "data": {
      "text/plain": [
       "'/Users/jensen/coding/quantTrade/quantTrade/maotai_stock_trend_chart.html'"
      ]
     },
     "execution_count": 11,
     "metadata": {},
     "output_type": "execute_result"
    }
   ],
   "source": [
    "import yfinance as yf\n",
    "from pyecharts import options as opts\n",
    "from pyecharts.charts import Line\n",
    "from datetime import datetime, timedelta\n",
    "\n",
    "# 设置茅台股票代码\n",
    "stock_code = \"600519.SS\"\n",
    "\n",
    "# 获取当前日期\n",
    "end_date = datetime.now().strftime('%Y-%m-%d')\n",
    "\n",
    "# 计算三年前的日期\n",
    "start_date = (datetime.now() - timedelta(days=3 * 365)).strftime('%Y-%m-%d')\n",
    "\n",
    "# 使用yfinance获取股票数据\n",
    "df = yf.download(stock_code, start=start_date, end=end_date)\n",
    "\n",
    "# 提取数据中的日期和收盘价\n",
    "dates = df.index.strftime('%Y-%m-%d').tolist()\n",
    "closing_prices = df['Close'].squeeze().tolist()\n",
    "\n",
    "# 创建 Line 图表\n",
    "line_chart = Line()\n",
    "line_chart.add_xaxis(xaxis_data=dates)\n",
    "line_chart.add_yaxis(series_name=\"茅台股价走势\",\n",
    "                     y_axis=closing_prices,\n",
    "                     markline_opts=opts.MarkLineOpts(\n",
    "                         data=[opts.MarkLineItem(type_=\"average\", name=\"平均值\")]\n",
    "                     )\n",
    "                     )\n",
    "line_chart.set_global_opts(\n",
    "    title_opts=opts.TitleOpts(title=\"茅台股价走势图（近三年）\"),\n",
    "    xaxis_opts=opts.AxisOpts(type_=\"category\"),\n",
    "    yaxis_opts=opts.AxisOpts(is_scale=True),\n",
    "    datazoom_opts=[opts.DataZoomOpts(pos_bottom=\"-2%\")],\n",
    ")\n",
    "\n",
    "# 渲染图表\n",
    "line_chart.render(\"maotai_stock_trend_chart.html\")"
   ]
  },
  {
   "cell_type": "markdown",
   "id": "5ecc327f-0325-4135-b1f9-2115da598c69",
   "metadata": {},
   "source": [
    "还可以添加一些图标工具，提升交互体验"
   ]
  },
  {
   "cell_type": "code",
   "execution_count": 12,
   "id": "79b040ec-cfef-499a-aef8-7312c400e3e5",
   "metadata": {},
   "outputs": [
    {
     "name": "stderr",
     "output_type": "stream",
     "text": [
      "/var/folders/mv/xy0dcv652js8mbvxhxmnc5z00000gn/T/ipykernel_70117/2948332633.py:17: FutureWarning: YF.download() has changed argument auto_adjust default to True\n",
      "  df = yf.download(stock_code, start=start_date, end=end_date)\n",
      "[*********************100%***********************]  1 of 1 completed\n"
     ]
    },
    {
     "data": {
      "text/plain": [
       "'/Users/jensen/coding/quantTrade/quantTrade/maotai_stock_trend_chart2.html'"
      ]
     },
     "execution_count": 12,
     "metadata": {},
     "output_type": "execute_result"
    }
   ],
   "source": [
    "import yfinance as yf\n",
    "from pyecharts import options as opts\n",
    "from pyecharts.charts import Line\n",
    "from pyecharts.commons.utils import JsCode\n",
    "from datetime import datetime, timedelta\n",
    "\n",
    "# 设置茅台股票代码\n",
    "stock_code = \"600519.SS\"\n",
    "\n",
    "# 获取当前日期\n",
    "end_date = datetime.now().strftime('%Y-%m-%d')\n",
    "\n",
    "# 计算三年前的日期\n",
    "start_date = (datetime.now() - timedelta(days=3 * 365)).strftime('%Y-%m-%d')\n",
    "\n",
    "# 使用yfinance获取股票数据\n",
    "df = yf.download(stock_code, start=start_date, end=end_date)\n",
    "\n",
    "# 提取数据中的日期和收盘价\n",
    "dates = df.index.strftime('%Y-%m-%d').tolist()\n",
    "closing_prices = df['Close'].squeeze().tolist()\n",
    "\n",
    "# 创建 Line 图表\n",
    "line_chart = Line()\n",
    "line_chart.add_xaxis(xaxis_data=dates)\n",
    "line_chart.add_yaxis(series_name=\"茅台股价走势\",\n",
    "                     y_axis=closing_prices,\n",
    "                     markline_opts=opts.MarkLineOpts(\n",
    "                         data=[opts.MarkLineItem(type_=\"average\", name=\"平均值\")]\n",
    "                     )\n",
    "                     )\n",
    "line_chart.set_global_opts(\n",
    "    title_opts=opts.TitleOpts(title=\"茅台股价走势图（近三年）\"),\n",
    "    xaxis_opts=opts.AxisOpts(type_=\"category\"),\n",
    "    yaxis_opts=opts.AxisOpts(is_scale=True),\n",
    "    datazoom_opts=[\n",
    "        opts.DataZoomOpts(\n",
    "            pos_bottom=\"-2%\",\n",
    "            range_start=0,\n",
    "            range_end=100,\n",
    "            type_=\"inside\"\n",
    "        ),\n",
    "        opts.DataZoomOpts(\n",
    "            pos_bottom=\"-2%\",\n",
    "            range_start=0,\n",
    "            range_end=100,\n",
    "            type_=\"slider\",\n",
    "        ),\n",
    "    ],\n",
    "    toolbox_opts=opts.ToolboxOpts(\n",
    "        feature={\n",
    "            \"dataZoom\": {\"yAxisIndex\": \"none\"},\n",
    "            \"restore\": {},\n",
    "            \"saveAsImage\": {},\n",
    "        }\n",
    "    ),\n",
    ")\n",
    "\n",
    "# 渲染图表\n",
    "line_chart.render(\"maotai_stock_trend_chart2.html\")"
   ]
  }
 ],
 "metadata": {
  "kernelspec": {
   "display_name": "Python 3 (ipykernel)",
   "language": "python",
   "name": "python3"
  },
  "language_info": {
   "codemirror_mode": {
    "name": "ipython",
    "version": 3
   },
   "file_extension": ".py",
   "mimetype": "text/x-python",
   "name": "python",
   "nbconvert_exporter": "python",
   "pygments_lexer": "ipython3",
   "version": "3.9.23"
  }
 },
 "nbformat": 4,
 "nbformat_minor": 5
}
