{
 "cells": [
  {
   "cell_type": "markdown",
   "id": "d450dbe5-0a92-41f9-a50f-372e6099bc22",
   "metadata": {},
   "source": [
    "# Python 量化金融库\n",
    "一些量化金融领域常用的Python库，比如：\n",
    "- **zipline**：用于回测和实施交易算法的库，安装命令：pip install zipline\n",
    "- **Quantlib**：用于定价金融工具和执行金融计算的库，安装命令：pip install Quantlib\n",
    "- **TA-Lib**：用于技术分析的库，安装命令：pip install TA-Lib\n",
    "- **pyfolio**：是一个用于评估投资组合性能的库，它可以与zipline等回测工具集成，提供分析投资组合收益、风险方面的工具，安装命令：pip install pyfolio\n",
    "- **statsmodels**：是一个用于估计统计模型的库，包括线性回归、时间序列分析等。在量化金融中，它可用于建立和测试交易策略，安装命令：pip install statsmodels"
   ]
  }
 ],
 "metadata": {
  "kernelspec": {
   "display_name": "Python [conda env:quantTrade]",
   "language": "python",
   "name": "conda-env-quantTrade-py"
  },
  "language_info": {
   "codemirror_mode": {
    "name": "ipython",
    "version": 3
   },
   "file_extension": ".py",
   "mimetype": "text/x-python",
   "name": "python",
   "nbconvert_exporter": "python",
   "pygments_lexer": "ipython3",
   "version": "3.9.23"
  }
 },
 "nbformat": 4,
 "nbformat_minor": 5
}
